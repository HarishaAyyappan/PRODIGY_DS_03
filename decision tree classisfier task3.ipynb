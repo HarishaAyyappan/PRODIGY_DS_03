{
 "cells": [
  {
   "cell_type": "code",
   "execution_count": 1,
   "id": "943eee98-d723-47f8-b03b-8d0b69495486",
   "metadata": {},
   "outputs": [
    {
     "name": "stdout",
     "output_type": "stream",
     "text": [
      "Accuracy: 0.8868657441126487\n",
      "Classification Report:\n",
      "               precision    recall  f1-score   support\n",
      "\n",
      "       False       0.94      0.93      0.94      7303\n",
      "        True       0.50      0.52      0.51       935\n",
      "\n",
      "    accuracy                           0.89      8238\n",
      "   macro avg       0.72      0.73      0.72      8238\n",
      "weighted avg       0.89      0.89      0.89      8238\n",
      "\n",
      "Confusion Matrix:\n",
      " [[6817  486]\n",
      " [ 446  489]]\n"
     ]
    }
   ],
   "source": [
    "#Task3\n",
    "import pandas as pd\n",
    "import requests\n",
    "from zipfile import ZipFile\n",
    "from io import BytesIO\n",
    "from sklearn.model_selection import train_test_split\n",
    "from sklearn.tree import DecisionTreeClassifier\n",
    "from sklearn.metrics import accuracy_score, classification_report, confusion_matrix\n",
    "\n",
    "# Load the dataset from the ZIP file\n",
    "url = \"https://archive.ics.uci.edu/ml/machine-learning-databases/00222/bank-additional.zip\"\n",
    "\n",
    "# Specify the file path within the ZIP archive\n",
    "file_path = \"bank-additional/bank-additional-full.csv\"\n",
    "\n",
    "# Fetch the ZIP file\n",
    "resp = requests.get(url)\n",
    "\n",
    "# Read the ZIP file contents\n",
    "with ZipFile(BytesIO(resp.content)) as z:\n",
    "    with z.open(file_path) as f:\n",
    "        # Read the CSV file from the ZIP archive\n",
    "        df = pd.read_csv(f, sep=';')\n",
    "\n",
    "# Data preprocessing\n",
    "# Perform feature engineering, handling missing values, encoding categorical variables, etc.\n",
    "# Here, we'll perform one-hot encoding for categorical variables\n",
    "df = pd.get_dummies(df, drop_first=True)\n",
    "\n",
    "# Splitting the data into features and target variable\n",
    "X = df.drop(columns=['y_yes'])  # Features\n",
    "y = df['y_yes']  # Target variable\n",
    "\n",
    "# Splitting the dataset into the training set and test set\n",
    "X_train, X_test, y_train, y_test = train_test_split(X, y, test_size=0.2, random_state=42)\n",
    "\n",
    "# Creating the decision tree classifier\n",
    "clf = DecisionTreeClassifier(random_state=42)\n",
    "\n",
    "# Training the decision tree classifier\n",
    "clf.fit(X_train, y_train)\n",
    "\n",
    "# Making predictions on the test set\n",
    "y_pred = clf.predict(X_test)\n",
    "\n",
    "# Evaluating the model\n",
    "accuracy = accuracy_score(y_test, y_pred)\n",
    "print(\"Accuracy:\", accuracy)\n",
    "\n",
    "# Classification report\n",
    "print(\"Classification Report:\\n\", classification_report(y_test, y_pred))\n",
    "\n",
    "# Confusion matrix\n",
    "print(\"Confusion Matrix:\\n\", confusion_matrix(y_test, y_pred))\n"
   ]
  },
  {
   "cell_type": "code",
   "execution_count": null,
   "id": "5f0ef8f7-d121-4958-982d-864ac8ec6793",
   "metadata": {},
   "outputs": [],
   "source": []
  }
 ],
 "metadata": {
  "kernelspec": {
   "display_name": "Python 3 (ipykernel)",
   "language": "python",
   "name": "python3"
  },
  "language_info": {
   "codemirror_mode": {
    "name": "ipython",
    "version": 3
   },
   "file_extension": ".py",
   "mimetype": "text/x-python",
   "name": "python",
   "nbconvert_exporter": "python",
   "pygments_lexer": "ipython3",
   "version": "3.11.7"
  }
 },
 "nbformat": 4,
 "nbformat_minor": 5
}
